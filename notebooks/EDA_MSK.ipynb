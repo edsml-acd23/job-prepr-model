{
 "cells": [
  {
   "cell_type": "code",
   "execution_count": 1,
   "id": "93bc6d62",
   "metadata": {},
   "outputs": [
    {
     "name": "stderr",
     "output_type": "stream",
     "text": [
      "2022-09-06 13:32:41.060283: W tensorflow/stream_executor/platform/default/dso_loader.cc:64] Could not load dynamic library 'libcudart.so.11.0'; dlerror: libcudart.so.11.0: cannot open shared object file: No such file or directory\n",
      "2022-09-06 13:32:41.060360: I tensorflow/stream_executor/cuda/cudart_stub.cc:29] Ignore above cudart dlerror if you do not have a GPU set up on your machine.\n"
     ]
    }
   ],
   "source": [
    "import pandas as pd\n",
    "import matplotlib.pyplot as plt\n",
    "import numpy as np\n",
    "from keras.preprocessing.image import load_img, img_to_array"
   ]
  },
  {
   "cell_type": "code",
   "execution_count": 2,
   "id": "83b74fc2",
   "metadata": {},
   "outputs": [],
   "source": [
    "import os"
   ]
  },
  {
   "cell_type": "markdown",
   "id": "67c0f541",
   "metadata": {},
   "source": [
    "# Defining paths"
   ]
  },
  {
   "cell_type": "code",
   "execution_count": 3,
   "id": "052a9246",
   "metadata": {},
   "outputs": [],
   "source": [
    "train_path = \"/home/skoooty/code/skoooty/job-prepr-data/train/train\""
   ]
  },
  {
   "cell_type": "code",
   "execution_count": 70,
   "id": "7a042024",
   "metadata": {},
   "outputs": [],
   "source": [
    "test_path = \"/Users/andrei/code/images/images/validation\""
   ]
  },
  {
   "cell_type": "code",
   "execution_count": null,
   "id": "f877c976",
   "metadata": {},
   "outputs": [],
   "source": [
    "val_path = \"~/code/images/images/val\""
   ]
  },
  {
   "cell_type": "markdown",
   "id": "342b41ce",
   "metadata": {},
   "source": [
    "# Loading the images"
   ]
  },
  {
   "cell_type": "code",
   "execution_count": 4,
   "id": "8e147432",
   "metadata": {},
   "outputs": [],
   "source": [
    "# iterate through the names of contents of the folder\n",
    "all_images = []\n",
    "y_train = []\n",
    "X_train = []\n",
    "for folder_path in os.listdir(train_path):\n",
    "    if not folder_path.startswith(\".\"):\n",
    "        for image_path in os.listdir(os.path.join(train_path, folder_path)):\n",
    "            img = load_img(os.path.join(os.path.join(train_path, folder_path), image_path), color_mode = \"grayscale\")\n",
    "            X_train.append(img_to_array(img))\n",
    "            y_train.append(os.path.basename(os.path.normpath(folder_path)))"
   ]
  },
  {
   "cell_type": "code",
   "execution_count": 10,
   "id": "7fe44d8a",
   "metadata": {},
   "outputs": [],
   "source": [
    "y_train = np.array(y_train)"
   ]
  },
  {
   "cell_type": "code",
   "execution_count": 11,
   "id": "7a032ae8",
   "metadata": {},
   "outputs": [],
   "source": [
    "X_train = np.array(X_train)"
   ]
  },
  {
   "cell_type": "markdown",
   "id": "b27c7907",
   "metadata": {
    "heading_collapsed": true
   },
   "source": [
    "## Test\n"
   ]
  },
  {
   "cell_type": "code",
   "execution_count": 71,
   "id": "5ea9313e",
   "metadata": {
    "hidden": true
   },
   "outputs": [],
   "source": [
    "# iterate through the names of contents of the folder\n",
    "all_images = []\n",
    "y_test = []\n",
    "X_test = []\n",
    "\n",
    "for folder_path in os.listdir(test_path):\n",
    "    if not folder_path.startswith(\".\"):\n",
    "        for image_path in os.listdir(os.path.join(test_path, folder_path)):\n",
    "            img = load_img(os.path.join(os.path.join(test_path, folder_path), image_path), color_mode = \"grayscale\")\n",
    "            X_test.append(img_to_array(img))\n",
    "            y_test.append(os.path.basename(os.path.normpath(folder_path)))"
   ]
  },
  {
   "cell_type": "code",
   "execution_count": 73,
   "id": "866f952c",
   "metadata": {
    "hidden": true
   },
   "outputs": [],
   "source": [
    "y_test = np.array(y_test)"
   ]
  },
  {
   "cell_type": "code",
   "execution_count": 74,
   "id": "907912e7",
   "metadata": {
    "hidden": true
   },
   "outputs": [],
   "source": [
    "X_test = np.array(X_test)"
   ]
  },
  {
   "cell_type": "markdown",
   "id": "73d757da",
   "metadata": {},
   "source": [
    "# Investigation and baseline"
   ]
  },
  {
   "cell_type": "code",
   "execution_count": 5,
   "id": "bf702f8e",
   "metadata": {},
   "outputs": [],
   "source": [
    "y_train_df = pd.DataFrame(y_train)"
   ]
  },
  {
   "cell_type": "code",
   "execution_count": 6,
   "id": "532a8ad6",
   "metadata": {},
   "outputs": [],
   "source": [
    "y_label_dict = {\n",
    "    'angry':0,\n",
    "    'disgust':1,\n",
    "    'fear':2,\n",
    "    'happy':3,\n",
    "    'neutral':4,\n",
    "    'sad':5,\n",
    "    'surprise':6\n",
    "}\n"
   ]
  },
  {
   "cell_type": "code",
   "execution_count": 13,
   "id": "751a1f10",
   "metadata": {},
   "outputs": [
    {
     "data": {
      "text/plain": [
       "(28821, 1)"
      ]
     },
     "execution_count": 13,
     "metadata": {},
     "output_type": "execute_result"
    }
   ],
   "source": [
    "y_train_df_num = y_train_df.applymap(lambda x : y_label_dict[x])\n",
    "np.array(y_train_df_num).shape"
   ]
  },
  {
   "cell_type": "code",
   "execution_count": 76,
   "id": "ee6d65db",
   "metadata": {},
   "outputs": [],
   "source": [
    "y_test_df = pd.DataFrame(y_test)"
   ]
  },
  {
   "cell_type": "code",
   "execution_count": 28,
   "id": "1bd8f043",
   "metadata": {
    "scrolled": true
   },
   "outputs": [
    {
     "data": {
      "text/plain": [
       "happy       0.248569\n",
       "neutral     0.172860\n",
       "sad         0.171333\n",
       "fear        0.142361\n",
       "angry       0.138545\n",
       "surprise    0.111204\n",
       "disgust     0.015128\n",
       "dtype: float64"
      ]
     },
     "execution_count": 28,
     "metadata": {},
     "output_type": "execute_result"
    }
   ],
   "source": [
    "y_train_df.value_counts(normalize=True)"
   ]
  },
  {
   "cell_type": "code",
   "execution_count": 77,
   "id": "548bd124",
   "metadata": {},
   "outputs": [
    {
     "data": {
      "text/plain": [
       "happy       0.258279\n",
       "neutral     0.172092\n",
       "sad         0.161194\n",
       "fear        0.144070\n",
       "angry       0.135862\n",
       "surprise    0.112794\n",
       "disgust     0.015709\n",
       "dtype: float64"
      ]
     },
     "execution_count": 77,
     "metadata": {},
     "output_type": "execute_result"
    }
   ],
   "source": [
    "y_test_df.value_counts(normalize=True)"
   ]
  },
  {
   "cell_type": "code",
   "execution_count": 32,
   "id": "a8706227",
   "metadata": {},
   "outputs": [],
   "source": [
    "baseline = y_train_df.value_counts(normalize=True).max()"
   ]
  },
  {
   "cell_type": "code",
   "execution_count": 33,
   "id": "227f7318",
   "metadata": {},
   "outputs": [
    {
     "data": {
      "text/plain": [
       "0.2485687519517019"
      ]
     },
     "execution_count": 33,
     "metadata": {},
     "output_type": "execute_result"
    }
   ],
   "source": [
    "baseline"
   ]
  },
  {
   "cell_type": "code",
   "execution_count": 12,
   "id": "5bdeff12",
   "metadata": {},
   "outputs": [
    {
     "data": {
      "text/plain": [
       "(28821, 48, 48, 1)"
      ]
     },
     "execution_count": 12,
     "metadata": {},
     "output_type": "execute_result"
    }
   ],
   "source": [
    "X_train.shape"
   ]
  },
  {
   "cell_type": "code",
   "execution_count": 13,
   "id": "87ed713a",
   "metadata": {},
   "outputs": [
    {
     "ename": "NameError",
     "evalue": "name 'X_test' is not defined",
     "output_type": "error",
     "traceback": [
      "\u001b[0;31m---------------------------------------------------------------------------\u001b[0m",
      "\u001b[0;31mNameError\u001b[0m                                 Traceback (most recent call last)",
      "Cell \u001b[0;32mIn [13], line 1\u001b[0m\n\u001b[0;32m----> 1\u001b[0m \u001b[43mX_test\u001b[49m\u001b[38;5;241m.\u001b[39mshape\n",
      "\u001b[0;31mNameError\u001b[0m: name 'X_test' is not defined"
     ]
    }
   ],
   "source": [
    "X_test.shape"
   ]
  },
  {
   "cell_type": "markdown",
   "id": "6666cf05",
   "metadata": {},
   "source": [
    "# Preprocessing"
   ]
  },
  {
   "cell_type": "code",
   "execution_count": 14,
   "id": "fbf9106e",
   "metadata": {},
   "outputs": [],
   "source": [
    "from sklearn.preprocessing import OneHotEncoder"
   ]
  },
  {
   "cell_type": "code",
   "execution_count": 15,
   "id": "cd55cfcb",
   "metadata": {},
   "outputs": [],
   "source": [
    "ohe = OneHotEncoder(sparse = False)"
   ]
  },
  {
   "cell_type": "code",
   "execution_count": 16,
   "id": "c86ce5af",
   "metadata": {},
   "outputs": [],
   "source": [
    "y_train_reshaped = y_train.reshape(-1, 1)"
   ]
  },
  {
   "cell_type": "code",
   "execution_count": 17,
   "id": "b5dfb198",
   "metadata": {},
   "outputs": [
    {
     "ename": "NameError",
     "evalue": "name 'y_test' is not defined",
     "output_type": "error",
     "traceback": [
      "\u001b[0;31m---------------------------------------------------------------------------\u001b[0m",
      "\u001b[0;31mNameError\u001b[0m                                 Traceback (most recent call last)",
      "Cell \u001b[0;32mIn [17], line 1\u001b[0m\n\u001b[0;32m----> 1\u001b[0m y_test_reshaped \u001b[38;5;241m=\u001b[39m \u001b[43my_test\u001b[49m\u001b[38;5;241m.\u001b[39mreshape(\u001b[38;5;241m-\u001b[39m\u001b[38;5;241m1\u001b[39m, \u001b[38;5;241m1\u001b[39m)\n",
      "\u001b[0;31mNameError\u001b[0m: name 'y_test' is not defined"
     ]
    }
   ],
   "source": [
    "y_test_reshaped = y_test.reshape(-1, 1)"
   ]
  },
  {
   "cell_type": "code",
   "execution_count": 18,
   "id": "792068fa",
   "metadata": {},
   "outputs": [],
   "source": [
    "y_train_cat = ohe.fit_transform(y_train_reshaped)"
   ]
  },
  {
   "cell_type": "code",
   "execution_count": 19,
   "id": "1ef0c212",
   "metadata": {},
   "outputs": [
    {
     "ename": "NameError",
     "evalue": "name 'y_test_reshaped' is not defined",
     "output_type": "error",
     "traceback": [
      "\u001b[0;31m---------------------------------------------------------------------------\u001b[0m",
      "\u001b[0;31mNameError\u001b[0m                                 Traceback (most recent call last)",
      "Cell \u001b[0;32mIn [19], line 1\u001b[0m\n\u001b[0;32m----> 1\u001b[0m y_test_cat \u001b[38;5;241m=\u001b[39m ohe\u001b[38;5;241m.\u001b[39mtransform(\u001b[43my_test_reshaped\u001b[49m)\n",
      "\u001b[0;31mNameError\u001b[0m: name 'y_test_reshaped' is not defined"
     ]
    }
   ],
   "source": [
    "y_test_cat = ohe.transform(y_test_reshaped)"
   ]
  },
  {
   "cell_type": "code",
   "execution_count": null,
   "id": "fd55d367",
   "metadata": {},
   "outputs": [],
   "source": [
    "ohe.get_feature_names_out()"
   ]
  },
  {
   "cell_type": "code",
   "execution_count": null,
   "id": "0a7b2b7c",
   "metadata": {},
   "outputs": [],
   "source": [
    "y_train_cat"
   ]
  },
  {
   "cell_type": "code",
   "execution_count": 20,
   "id": "ede91f5d",
   "metadata": {},
   "outputs": [
    {
     "data": {
      "text/plain": [
       "(28821, 48, 48, 1)"
      ]
     },
     "execution_count": 20,
     "metadata": {},
     "output_type": "execute_result"
    }
   ],
   "source": [
    "X_train.shape"
   ]
  },
  {
   "cell_type": "code",
   "execution_count": 21,
   "id": "903a675f",
   "metadata": {},
   "outputs": [],
   "source": [
    "from sklearn.utils import shuffle"
   ]
  },
  {
   "cell_type": "code",
   "execution_count": 22,
   "id": "1f7a4e6e",
   "metadata": {},
   "outputs": [],
   "source": [
    "X_shuffle, y_shuffle = shuffle(X_train, y_train_cat, random_state = 0)"
   ]
  },
  {
   "cell_type": "code",
   "execution_count": 23,
   "id": "8b2aca30",
   "metadata": {},
   "outputs": [],
   "source": [
    "X_sample = X_shuffle[:3000, :, :, :]"
   ]
  },
  {
   "cell_type": "code",
   "execution_count": 24,
   "id": "95db4b15",
   "metadata": {},
   "outputs": [],
   "source": [
    "y_sample = y_shuffle[:3000]"
   ]
  },
  {
   "cell_type": "markdown",
   "id": "2cc489f3",
   "metadata": {},
   "source": [
    "# Model"
   ]
  },
  {
   "cell_type": "code",
   "execution_count": 25,
   "id": "d4d2c190",
   "metadata": {},
   "outputs": [
    {
     "name": "stderr",
     "output_type": "stream",
     "text": [
      "2022-09-06 13:34:06.393992: W tensorflow/stream_executor/platform/default/dso_loader.cc:64] Could not load dynamic library 'libcuda.so.1'; dlerror: libcuda.so.1: cannot open shared object file: No such file or directory\n",
      "2022-09-06 13:34:06.394064: W tensorflow/stream_executor/cuda/cuda_driver.cc:269] failed call to cuInit: UNKNOWN ERROR (303)\n",
      "2022-09-06 13:34:06.394108: I tensorflow/stream_executor/cuda/cuda_diagnostics.cc:156] kernel driver does not appear to be running on this host (DESKTOP-BAEIOTT): /proc/driver/nvidia/version does not exist\n",
      "2022-09-06 13:34:06.394384: I tensorflow/core/platform/cpu_feature_guard.cc:151] This TensorFlow binary is optimized with oneAPI Deep Neural Network Library (oneDNN) to use the following CPU instructions in performance-critical operations:  AVX2 FMA\n",
      "To enable them in other operations, rebuild TensorFlow with the appropriate compiler flags.\n"
     ]
    }
   ],
   "source": [
    "from tensorflow.keras.layers.experimental.preprocessing import Rescaling\n",
    "from tensorflow.keras import layers, models\n",
    "\n",
    "model = models.Sequential()\n",
    "\n",
    "# Notice this cool new layer that \"pipe\" your rescaling within the architecture\n",
    "model.add(Rescaling(1./255, input_shape=(48, 48, 1)))\n",
    "\n",
    "# Lets add 3 convolution layers, with relatively large kernel size as our pictures are quite big too\n",
    "model.add(layers.Conv2D(16, kernel_size=5, activation='relu'))\n",
    "model.add(layers.MaxPooling2D(3))\n",
    "\n",
    "model.add(layers.Conv2D(32, kernel_size=3, activation=\"relu\"))\n",
    "model.add(layers.MaxPooling2D(3))\n",
    "\n",
    "model.add(layers.Conv2D(32, kernel_size=2, activation=\"relu\"))\n",
    "model.add(layers.MaxPooling2D(3))\n",
    "\n",
    "model.add(layers.Flatten())\n",
    "model.add(layers.Dense(100, activation='relu'))\n",
    "model.add(layers.Dense(7, activation='softmax'))\n",
    "\n",
    "model.compile(loss='categorical_crossentropy',\n",
    "              optimizer='adam',\n",
    "              metrics=['accuracy'])"
   ]
  },
  {
   "cell_type": "code",
   "execution_count": 26,
   "id": "6aefe0ea",
   "metadata": {
    "scrolled": true
   },
   "outputs": [
    {
     "name": "stdout",
     "output_type": "stream",
     "text": [
      "Model: \"sequential\"\n",
      "_________________________________________________________________\n",
      " Layer (type)                Output Shape              Param #   \n",
      "=================================================================\n",
      " rescaling (Rescaling)       (None, 48, 48, 1)         0         \n",
      "                                                                 \n",
      " conv2d (Conv2D)             (None, 44, 44, 16)        416       \n",
      "                                                                 \n",
      " max_pooling2d (MaxPooling2D  (None, 14, 14, 16)       0         \n",
      " )                                                               \n",
      "                                                                 \n",
      " conv2d_1 (Conv2D)           (None, 12, 12, 32)        4640      \n",
      "                                                                 \n",
      " max_pooling2d_1 (MaxPooling  (None, 4, 4, 32)         0         \n",
      " 2D)                                                             \n",
      "                                                                 \n",
      " conv2d_2 (Conv2D)           (None, 3, 3, 32)          4128      \n",
      "                                                                 \n",
      " max_pooling2d_2 (MaxPooling  (None, 1, 1, 32)         0         \n",
      " 2D)                                                             \n",
      "                                                                 \n",
      " flatten (Flatten)           (None, 32)                0         \n",
      "                                                                 \n",
      " dense (Dense)               (None, 100)               3300      \n",
      "                                                                 \n",
      " dense_1 (Dense)             (None, 7)                 707       \n",
      "                                                                 \n",
      "=================================================================\n",
      "Total params: 13,191\n",
      "Trainable params: 13,191\n",
      "Non-trainable params: 0\n",
      "_________________________________________________________________\n"
     ]
    }
   ],
   "source": [
    "model.summary()"
   ]
  },
  {
   "cell_type": "code",
   "execution_count": 27,
   "id": "33263676",
   "metadata": {},
   "outputs": [],
   "source": [
    "from tensorflow.keras.callbacks import EarlyStopping"
   ]
  },
  {
   "cell_type": "code",
   "execution_count": 28,
   "id": "b8e36aa4",
   "metadata": {
    "scrolled": true
   },
   "outputs": [
    {
     "name": "stdout",
     "output_type": "stream",
     "text": [
      "Epoch 1/1000\n",
      "75/75 [==============================] - 4s 41ms/step - loss: 1.8366 - accuracy: 0.2433 - val_loss: 1.8140 - val_accuracy: 0.2400\n",
      "Epoch 2/1000\n",
      "75/75 [==============================] - 2s 33ms/step - loss: 1.8164 - accuracy: 0.2492 - val_loss: 1.8090 - val_accuracy: 0.2400\n",
      "Epoch 3/1000\n",
      "75/75 [==============================] - 3s 34ms/step - loss: 1.8147 - accuracy: 0.2492 - val_loss: 1.8142 - val_accuracy: 0.2400\n",
      "Epoch 4/1000\n",
      "75/75 [==============================] - 3s 36ms/step - loss: 1.8111 - accuracy: 0.2492 - val_loss: 1.8104 - val_accuracy: 0.2400\n",
      "Epoch 5/1000\n",
      "75/75 [==============================] - 3s 37ms/step - loss: 1.8098 - accuracy: 0.2496 - val_loss: 1.8078 - val_accuracy: 0.2400\n",
      "Epoch 6/1000\n",
      "75/75 [==============================] - 3s 37ms/step - loss: 1.8035 - accuracy: 0.2458 - val_loss: 1.8009 - val_accuracy: 0.2550\n",
      "Epoch 7/1000\n",
      "75/75 [==============================] - 3s 35ms/step - loss: 1.7976 - accuracy: 0.2446 - val_loss: 1.7984 - val_accuracy: 0.2583\n",
      "Epoch 8/1000\n",
      "75/75 [==============================] - 3s 36ms/step - loss: 1.7870 - accuracy: 0.2583 - val_loss: 1.7812 - val_accuracy: 0.2450\n",
      "Epoch 9/1000\n",
      "75/75 [==============================] - 3s 34ms/step - loss: 1.7820 - accuracy: 0.2508 - val_loss: 1.7828 - val_accuracy: 0.2517\n",
      "Epoch 10/1000\n",
      "75/75 [==============================] - 3s 35ms/step - loss: 1.7631 - accuracy: 0.2654 - val_loss: 1.7587 - val_accuracy: 0.2700\n",
      "Epoch 11/1000\n",
      "75/75 [==============================] - 3s 40ms/step - loss: 1.7429 - accuracy: 0.2788 - val_loss: 1.7376 - val_accuracy: 0.3000\n",
      "Epoch 12/1000\n",
      "75/75 [==============================] - 3s 36ms/step - loss: 1.7288 - accuracy: 0.2862 - val_loss: 1.7179 - val_accuracy: 0.2983\n",
      "Epoch 13/1000\n",
      "75/75 [==============================] - 4s 52ms/step - loss: 1.7025 - accuracy: 0.3046 - val_loss: 1.7023 - val_accuracy: 0.3033\n",
      "Epoch 14/1000\n",
      "75/75 [==============================] - 3s 37ms/step - loss: 1.6781 - accuracy: 0.3192 - val_loss: 1.6884 - val_accuracy: 0.3100\n",
      "Epoch 15/1000\n",
      "75/75 [==============================] - 3s 38ms/step - loss: 1.6527 - accuracy: 0.3279 - val_loss: 1.6733 - val_accuracy: 0.3283\n",
      "Epoch 16/1000\n",
      "75/75 [==============================] - 3s 35ms/step - loss: 1.6316 - accuracy: 0.3425 - val_loss: 1.6670 - val_accuracy: 0.3250\n",
      "Epoch 17/1000\n",
      "75/75 [==============================] - 3s 34ms/step - loss: 1.6047 - accuracy: 0.3613 - val_loss: 1.7014 - val_accuracy: 0.2967\n",
      "Epoch 18/1000\n",
      "75/75 [==============================] - 3s 35ms/step - loss: 1.5894 - accuracy: 0.3767 - val_loss: 1.6419 - val_accuracy: 0.3367\n",
      "Epoch 19/1000\n",
      "75/75 [==============================] - 2s 33ms/step - loss: 1.5514 - accuracy: 0.3796 - val_loss: 1.6635 - val_accuracy: 0.3233\n",
      "Epoch 20/1000\n",
      "75/75 [==============================] - 3s 35ms/step - loss: 1.5281 - accuracy: 0.4021 - val_loss: 1.6381 - val_accuracy: 0.3450\n",
      "Epoch 21/1000\n",
      "75/75 [==============================] - 3s 36ms/step - loss: 1.4908 - accuracy: 0.4162 - val_loss: 1.6692 - val_accuracy: 0.3300\n",
      "Epoch 22/1000\n",
      "75/75 [==============================] - 3s 34ms/step - loss: 1.4556 - accuracy: 0.4371 - val_loss: 1.6358 - val_accuracy: 0.3533\n",
      "Epoch 23/1000\n",
      "75/75 [==============================] - 2s 33ms/step - loss: 1.4323 - accuracy: 0.4462 - val_loss: 1.6259 - val_accuracy: 0.3767\n",
      "Epoch 24/1000\n",
      "75/75 [==============================] - 3s 36ms/step - loss: 1.4052 - accuracy: 0.4621 - val_loss: 1.6180 - val_accuracy: 0.3950\n",
      "Epoch 25/1000\n",
      "75/75 [==============================] - 4s 47ms/step - loss: 1.3913 - accuracy: 0.4667 - val_loss: 1.6229 - val_accuracy: 0.3933\n",
      "Epoch 26/1000\n",
      "75/75 [==============================] - 3s 41ms/step - loss: 1.3510 - accuracy: 0.4829 - val_loss: 1.6442 - val_accuracy: 0.3800\n",
      "Epoch 27/1000\n",
      "75/75 [==============================] - 3s 37ms/step - loss: 1.3430 - accuracy: 0.4867 - val_loss: 1.6235 - val_accuracy: 0.3767\n",
      "Epoch 28/1000\n",
      "75/75 [==============================] - 3s 35ms/step - loss: 1.3016 - accuracy: 0.4958 - val_loss: 1.6337 - val_accuracy: 0.3967\n",
      "Epoch 29/1000\n",
      "75/75 [==============================] - 3s 37ms/step - loss: 1.2775 - accuracy: 0.5017 - val_loss: 1.6558 - val_accuracy: 0.3717\n",
      "Epoch 30/1000\n",
      "75/75 [==============================] - 2s 33ms/step - loss: 1.2541 - accuracy: 0.5254 - val_loss: 1.6841 - val_accuracy: 0.3850\n",
      "Epoch 31/1000\n",
      "75/75 [==============================] - 3s 35ms/step - loss: 1.2541 - accuracy: 0.5308 - val_loss: 1.6476 - val_accuracy: 0.3667\n",
      "Epoch 32/1000\n",
      "75/75 [==============================] - 3s 39ms/step - loss: 1.2067 - accuracy: 0.5504 - val_loss: 1.6634 - val_accuracy: 0.3917\n",
      "Epoch 33/1000\n",
      "75/75 [==============================] - 3s 34ms/step - loss: 1.1703 - accuracy: 0.5638 - val_loss: 1.7316 - val_accuracy: 0.3917\n",
      "Epoch 34/1000\n",
      "75/75 [==============================] - 2s 33ms/step - loss: 1.1616 - accuracy: 0.5450 - val_loss: 1.7072 - val_accuracy: 0.3633\n",
      "Epoch 35/1000\n",
      "75/75 [==============================] - 3s 35ms/step - loss: 1.1452 - accuracy: 0.5642 - val_loss: 1.7430 - val_accuracy: 0.3633\n",
      "Epoch 36/1000\n",
      "75/75 [==============================] - 3s 34ms/step - loss: 1.1201 - accuracy: 0.5817 - val_loss: 1.7457 - val_accuracy: 0.3783\n",
      "Epoch 37/1000\n",
      "75/75 [==============================] - 3s 40ms/step - loss: 1.1288 - accuracy: 0.5725 - val_loss: 1.7536 - val_accuracy: 0.3717\n",
      "Epoch 38/1000\n",
      "75/75 [==============================] - 3s 37ms/step - loss: 1.0862 - accuracy: 0.5867 - val_loss: 1.8354 - val_accuracy: 0.3850\n",
      "Epoch 39/1000\n",
      "75/75 [==============================] - 3s 39ms/step - loss: 1.0545 - accuracy: 0.6000 - val_loss: 1.8648 - val_accuracy: 0.3833\n",
      "Epoch 40/1000\n",
      "43/75 [================>.............] - ETA: 1s - loss: 1.0495 - accuracy: 0.5967"
     ]
    },
    {
     "ename": "KeyboardInterrupt",
     "evalue": "",
     "output_type": "error",
     "traceback": [
      "\u001b[0;31m---------------------------------------------------------------------------\u001b[0m",
      "\u001b[0;31mKeyboardInterrupt\u001b[0m                         Traceback (most recent call last)",
      "Cell \u001b[0;32mIn [28], line 1\u001b[0m\n\u001b[0;32m----> 1\u001b[0m \u001b[43mmodel\u001b[49m\u001b[38;5;241;43m.\u001b[39;49m\u001b[43mfit\u001b[49m\u001b[43m(\u001b[49m\u001b[43mX_sample\u001b[49m\u001b[43m,\u001b[49m\u001b[43m \u001b[49m\u001b[43my_sample\u001b[49m\u001b[43m,\u001b[49m\u001b[43m \u001b[49m\u001b[43mbatch_size\u001b[49m\u001b[43m \u001b[49m\u001b[38;5;241;43m=\u001b[39;49m\u001b[43m \u001b[49m\u001b[38;5;241;43m32\u001b[39;49m\u001b[43m,\u001b[49m\u001b[43m \u001b[49m\u001b[43mepochs\u001b[49m\u001b[43m \u001b[49m\u001b[38;5;241;43m=\u001b[39;49m\u001b[43m \u001b[49m\u001b[38;5;241;43m1000\u001b[39;49m\u001b[43m,\u001b[49m\n\u001b[1;32m      2\u001b[0m \u001b[43m          \u001b[49m\u001b[43mcallbacks\u001b[49m\u001b[38;5;241;43m=\u001b[39;49m\u001b[43m[\u001b[49m\u001b[43mEarlyStopping\u001b[49m\u001b[43m(\u001b[49m\u001b[43mpatience\u001b[49m\u001b[43m \u001b[49m\u001b[38;5;241;43m=\u001b[39;49m\u001b[43m \u001b[49m\u001b[38;5;241;43m20\u001b[39;49m\u001b[43m,\u001b[49m\u001b[43m \u001b[49m\u001b[43mrestore_best_weights\u001b[49m\u001b[38;5;241;43m=\u001b[39;49m\u001b[43m \u001b[49m\u001b[38;5;28;43;01mTrue\u001b[39;49;00m\u001b[43m,\u001b[49m\u001b[43m \u001b[49m\u001b[43mmonitor\u001b[49m\u001b[43m \u001b[49m\u001b[38;5;241;43m=\u001b[39;49m\u001b[43m \u001b[49m\u001b[38;5;124;43m\"\u001b[39;49m\u001b[38;5;124;43mval_accuracy\u001b[39;49m\u001b[38;5;124;43m\"\u001b[39;49m\u001b[43m,\u001b[49m\u001b[43m \u001b[49m\u001b[43mmode\u001b[49m\u001b[43m \u001b[49m\u001b[38;5;241;43m=\u001b[39;49m\u001b[43m \u001b[49m\u001b[38;5;124;43m\"\u001b[39;49m\u001b[38;5;124;43mmax\u001b[39;49m\u001b[38;5;124;43m\"\u001b[39;49m\u001b[43m)\u001b[49m\u001b[43m]\u001b[49m\u001b[43m,\u001b[49m\n\u001b[1;32m      3\u001b[0m \u001b[43m         \u001b[49m\u001b[43mvalidation_split\u001b[49m\u001b[43m \u001b[49m\u001b[38;5;241;43m=\u001b[39;49m\u001b[43m \u001b[49m\u001b[38;5;241;43m0.2\u001b[39;49m\u001b[43m,\u001b[49m\u001b[43m \u001b[49m\u001b[43mverbose\u001b[49m\u001b[43m \u001b[49m\u001b[38;5;241;43m=\u001b[39;49m\u001b[43m \u001b[49m\u001b[38;5;241;43m1\u001b[39;49m\u001b[43m)\u001b[49m\n",
      "File \u001b[0;32m~/.pyenv/versions/3.8.12/envs/job-prepr-model/lib/python3.8/site-packages/keras/utils/traceback_utils.py:64\u001b[0m, in \u001b[0;36mfilter_traceback.<locals>.error_handler\u001b[0;34m(*args, **kwargs)\u001b[0m\n\u001b[1;32m     62\u001b[0m filtered_tb \u001b[38;5;241m=\u001b[39m \u001b[38;5;28;01mNone\u001b[39;00m\n\u001b[1;32m     63\u001b[0m \u001b[38;5;28;01mtry\u001b[39;00m:\n\u001b[0;32m---> 64\u001b[0m   \u001b[38;5;28;01mreturn\u001b[39;00m \u001b[43mfn\u001b[49m\u001b[43m(\u001b[49m\u001b[38;5;241;43m*\u001b[39;49m\u001b[43margs\u001b[49m\u001b[43m,\u001b[49m\u001b[43m \u001b[49m\u001b[38;5;241;43m*\u001b[39;49m\u001b[38;5;241;43m*\u001b[39;49m\u001b[43mkwargs\u001b[49m\u001b[43m)\u001b[49m\n\u001b[1;32m     65\u001b[0m \u001b[38;5;28;01mexcept\u001b[39;00m \u001b[38;5;167;01mException\u001b[39;00m \u001b[38;5;28;01mas\u001b[39;00m e:  \u001b[38;5;66;03m# pylint: disable=broad-except\u001b[39;00m\n\u001b[1;32m     66\u001b[0m   filtered_tb \u001b[38;5;241m=\u001b[39m _process_traceback_frames(e\u001b[38;5;241m.\u001b[39m__traceback__)\n",
      "File \u001b[0;32m~/.pyenv/versions/3.8.12/envs/job-prepr-model/lib/python3.8/site-packages/keras/engine/training.py:1216\u001b[0m, in \u001b[0;36mModel.fit\u001b[0;34m(self, x, y, batch_size, epochs, verbose, callbacks, validation_split, validation_data, shuffle, class_weight, sample_weight, initial_epoch, steps_per_epoch, validation_steps, validation_batch_size, validation_freq, max_queue_size, workers, use_multiprocessing)\u001b[0m\n\u001b[1;32m   1209\u001b[0m \u001b[38;5;28;01mwith\u001b[39;00m tf\u001b[38;5;241m.\u001b[39mprofiler\u001b[38;5;241m.\u001b[39mexperimental\u001b[38;5;241m.\u001b[39mTrace(\n\u001b[1;32m   1210\u001b[0m     \u001b[38;5;124m'\u001b[39m\u001b[38;5;124mtrain\u001b[39m\u001b[38;5;124m'\u001b[39m,\n\u001b[1;32m   1211\u001b[0m     epoch_num\u001b[38;5;241m=\u001b[39mepoch,\n\u001b[1;32m   1212\u001b[0m     step_num\u001b[38;5;241m=\u001b[39mstep,\n\u001b[1;32m   1213\u001b[0m     batch_size\u001b[38;5;241m=\u001b[39mbatch_size,\n\u001b[1;32m   1214\u001b[0m     _r\u001b[38;5;241m=\u001b[39m\u001b[38;5;241m1\u001b[39m):\n\u001b[1;32m   1215\u001b[0m   callbacks\u001b[38;5;241m.\u001b[39mon_train_batch_begin(step)\n\u001b[0;32m-> 1216\u001b[0m   tmp_logs \u001b[38;5;241m=\u001b[39m \u001b[38;5;28;43mself\u001b[39;49m\u001b[38;5;241;43m.\u001b[39;49m\u001b[43mtrain_function\u001b[49m\u001b[43m(\u001b[49m\u001b[43miterator\u001b[49m\u001b[43m)\u001b[49m\n\u001b[1;32m   1217\u001b[0m   \u001b[38;5;28;01mif\u001b[39;00m data_handler\u001b[38;5;241m.\u001b[39mshould_sync:\n\u001b[1;32m   1218\u001b[0m     context\u001b[38;5;241m.\u001b[39masync_wait()\n",
      "File \u001b[0;32m~/.pyenv/versions/3.8.12/envs/job-prepr-model/lib/python3.8/site-packages/tensorflow/python/util/traceback_utils.py:150\u001b[0m, in \u001b[0;36mfilter_traceback.<locals>.error_handler\u001b[0;34m(*args, **kwargs)\u001b[0m\n\u001b[1;32m    148\u001b[0m filtered_tb \u001b[38;5;241m=\u001b[39m \u001b[38;5;28;01mNone\u001b[39;00m\n\u001b[1;32m    149\u001b[0m \u001b[38;5;28;01mtry\u001b[39;00m:\n\u001b[0;32m--> 150\u001b[0m   \u001b[38;5;28;01mreturn\u001b[39;00m \u001b[43mfn\u001b[49m\u001b[43m(\u001b[49m\u001b[38;5;241;43m*\u001b[39;49m\u001b[43margs\u001b[49m\u001b[43m,\u001b[49m\u001b[43m \u001b[49m\u001b[38;5;241;43m*\u001b[39;49m\u001b[38;5;241;43m*\u001b[39;49m\u001b[43mkwargs\u001b[49m\u001b[43m)\u001b[49m\n\u001b[1;32m    151\u001b[0m \u001b[38;5;28;01mexcept\u001b[39;00m \u001b[38;5;167;01mException\u001b[39;00m \u001b[38;5;28;01mas\u001b[39;00m e:\n\u001b[1;32m    152\u001b[0m   filtered_tb \u001b[38;5;241m=\u001b[39m _process_traceback_frames(e\u001b[38;5;241m.\u001b[39m__traceback__)\n",
      "File \u001b[0;32m~/.pyenv/versions/3.8.12/envs/job-prepr-model/lib/python3.8/site-packages/tensorflow/python/eager/def_function.py:910\u001b[0m, in \u001b[0;36mFunction.__call__\u001b[0;34m(self, *args, **kwds)\u001b[0m\n\u001b[1;32m    907\u001b[0m compiler \u001b[38;5;241m=\u001b[39m \u001b[38;5;124m\"\u001b[39m\u001b[38;5;124mxla\u001b[39m\u001b[38;5;124m\"\u001b[39m \u001b[38;5;28;01mif\u001b[39;00m \u001b[38;5;28mself\u001b[39m\u001b[38;5;241m.\u001b[39m_jit_compile \u001b[38;5;28;01melse\u001b[39;00m \u001b[38;5;124m\"\u001b[39m\u001b[38;5;124mnonXla\u001b[39m\u001b[38;5;124m\"\u001b[39m\n\u001b[1;32m    909\u001b[0m \u001b[38;5;28;01mwith\u001b[39;00m OptionalXlaContext(\u001b[38;5;28mself\u001b[39m\u001b[38;5;241m.\u001b[39m_jit_compile):\n\u001b[0;32m--> 910\u001b[0m   result \u001b[38;5;241m=\u001b[39m \u001b[38;5;28;43mself\u001b[39;49m\u001b[38;5;241;43m.\u001b[39;49m\u001b[43m_call\u001b[49m\u001b[43m(\u001b[49m\u001b[38;5;241;43m*\u001b[39;49m\u001b[43margs\u001b[49m\u001b[43m,\u001b[49m\u001b[43m \u001b[49m\u001b[38;5;241;43m*\u001b[39;49m\u001b[38;5;241;43m*\u001b[39;49m\u001b[43mkwds\u001b[49m\u001b[43m)\u001b[49m\n\u001b[1;32m    912\u001b[0m new_tracing_count \u001b[38;5;241m=\u001b[39m \u001b[38;5;28mself\u001b[39m\u001b[38;5;241m.\u001b[39mexperimental_get_tracing_count()\n\u001b[1;32m    913\u001b[0m without_tracing \u001b[38;5;241m=\u001b[39m (tracing_count \u001b[38;5;241m==\u001b[39m new_tracing_count)\n",
      "File \u001b[0;32m~/.pyenv/versions/3.8.12/envs/job-prepr-model/lib/python3.8/site-packages/tensorflow/python/eager/def_function.py:942\u001b[0m, in \u001b[0;36mFunction._call\u001b[0;34m(self, *args, **kwds)\u001b[0m\n\u001b[1;32m    939\u001b[0m   \u001b[38;5;28mself\u001b[39m\u001b[38;5;241m.\u001b[39m_lock\u001b[38;5;241m.\u001b[39mrelease()\n\u001b[1;32m    940\u001b[0m   \u001b[38;5;66;03m# In this case we have created variables on the first call, so we run the\u001b[39;00m\n\u001b[1;32m    941\u001b[0m   \u001b[38;5;66;03m# defunned version which is guaranteed to never create variables.\u001b[39;00m\n\u001b[0;32m--> 942\u001b[0m   \u001b[38;5;28;01mreturn\u001b[39;00m \u001b[38;5;28;43mself\u001b[39;49m\u001b[38;5;241;43m.\u001b[39;49m\u001b[43m_stateless_fn\u001b[49m\u001b[43m(\u001b[49m\u001b[38;5;241;43m*\u001b[39;49m\u001b[43margs\u001b[49m\u001b[43m,\u001b[49m\u001b[43m \u001b[49m\u001b[38;5;241;43m*\u001b[39;49m\u001b[38;5;241;43m*\u001b[39;49m\u001b[43mkwds\u001b[49m\u001b[43m)\u001b[49m  \u001b[38;5;66;03m# pylint: disable=not-callable\u001b[39;00m\n\u001b[1;32m    943\u001b[0m \u001b[38;5;28;01melif\u001b[39;00m \u001b[38;5;28mself\u001b[39m\u001b[38;5;241m.\u001b[39m_stateful_fn \u001b[38;5;129;01mis\u001b[39;00m \u001b[38;5;129;01mnot\u001b[39;00m \u001b[38;5;28;01mNone\u001b[39;00m:\n\u001b[1;32m    944\u001b[0m   \u001b[38;5;66;03m# Release the lock early so that multiple threads can perform the call\u001b[39;00m\n\u001b[1;32m    945\u001b[0m   \u001b[38;5;66;03m# in parallel.\u001b[39;00m\n\u001b[1;32m    946\u001b[0m   \u001b[38;5;28mself\u001b[39m\u001b[38;5;241m.\u001b[39m_lock\u001b[38;5;241m.\u001b[39mrelease()\n",
      "File \u001b[0;32m~/.pyenv/versions/3.8.12/envs/job-prepr-model/lib/python3.8/site-packages/tensorflow/python/eager/function.py:3130\u001b[0m, in \u001b[0;36mFunction.__call__\u001b[0;34m(self, *args, **kwargs)\u001b[0m\n\u001b[1;32m   3127\u001b[0m \u001b[38;5;28;01mwith\u001b[39;00m \u001b[38;5;28mself\u001b[39m\u001b[38;5;241m.\u001b[39m_lock:\n\u001b[1;32m   3128\u001b[0m   (graph_function,\n\u001b[1;32m   3129\u001b[0m    filtered_flat_args) \u001b[38;5;241m=\u001b[39m \u001b[38;5;28mself\u001b[39m\u001b[38;5;241m.\u001b[39m_maybe_define_function(args, kwargs)\n\u001b[0;32m-> 3130\u001b[0m \u001b[38;5;28;01mreturn\u001b[39;00m \u001b[43mgraph_function\u001b[49m\u001b[38;5;241;43m.\u001b[39;49m\u001b[43m_call_flat\u001b[49m\u001b[43m(\u001b[49m\n\u001b[1;32m   3131\u001b[0m \u001b[43m    \u001b[49m\u001b[43mfiltered_flat_args\u001b[49m\u001b[43m,\u001b[49m\u001b[43m \u001b[49m\u001b[43mcaptured_inputs\u001b[49m\u001b[38;5;241;43m=\u001b[39;49m\u001b[43mgraph_function\u001b[49m\u001b[38;5;241;43m.\u001b[39;49m\u001b[43mcaptured_inputs\u001b[49m\u001b[43m)\u001b[49m\n",
      "File \u001b[0;32m~/.pyenv/versions/3.8.12/envs/job-prepr-model/lib/python3.8/site-packages/tensorflow/python/eager/function.py:1959\u001b[0m, in \u001b[0;36mConcreteFunction._call_flat\u001b[0;34m(self, args, captured_inputs, cancellation_manager)\u001b[0m\n\u001b[1;32m   1955\u001b[0m possible_gradient_type \u001b[38;5;241m=\u001b[39m gradients_util\u001b[38;5;241m.\u001b[39mPossibleTapeGradientTypes(args)\n\u001b[1;32m   1956\u001b[0m \u001b[38;5;28;01mif\u001b[39;00m (possible_gradient_type \u001b[38;5;241m==\u001b[39m gradients_util\u001b[38;5;241m.\u001b[39mPOSSIBLE_GRADIENT_TYPES_NONE\n\u001b[1;32m   1957\u001b[0m     \u001b[38;5;129;01mand\u001b[39;00m executing_eagerly):\n\u001b[1;32m   1958\u001b[0m   \u001b[38;5;66;03m# No tape is watching; skip to running the function.\u001b[39;00m\n\u001b[0;32m-> 1959\u001b[0m   \u001b[38;5;28;01mreturn\u001b[39;00m \u001b[38;5;28mself\u001b[39m\u001b[38;5;241m.\u001b[39m_build_call_outputs(\u001b[38;5;28;43mself\u001b[39;49m\u001b[38;5;241;43m.\u001b[39;49m\u001b[43m_inference_function\u001b[49m\u001b[38;5;241;43m.\u001b[39;49m\u001b[43mcall\u001b[49m\u001b[43m(\u001b[49m\n\u001b[1;32m   1960\u001b[0m \u001b[43m      \u001b[49m\u001b[43mctx\u001b[49m\u001b[43m,\u001b[49m\u001b[43m \u001b[49m\u001b[43margs\u001b[49m\u001b[43m,\u001b[49m\u001b[43m \u001b[49m\u001b[43mcancellation_manager\u001b[49m\u001b[38;5;241;43m=\u001b[39;49m\u001b[43mcancellation_manager\u001b[49m\u001b[43m)\u001b[49m)\n\u001b[1;32m   1961\u001b[0m forward_backward \u001b[38;5;241m=\u001b[39m \u001b[38;5;28mself\u001b[39m\u001b[38;5;241m.\u001b[39m_select_forward_and_backward_functions(\n\u001b[1;32m   1962\u001b[0m     args,\n\u001b[1;32m   1963\u001b[0m     possible_gradient_type,\n\u001b[1;32m   1964\u001b[0m     executing_eagerly)\n\u001b[1;32m   1965\u001b[0m forward_function, args_with_tangents \u001b[38;5;241m=\u001b[39m forward_backward\u001b[38;5;241m.\u001b[39mforward()\n",
      "File \u001b[0;32m~/.pyenv/versions/3.8.12/envs/job-prepr-model/lib/python3.8/site-packages/tensorflow/python/eager/function.py:598\u001b[0m, in \u001b[0;36m_EagerDefinedFunction.call\u001b[0;34m(self, ctx, args, cancellation_manager)\u001b[0m\n\u001b[1;32m    596\u001b[0m \u001b[38;5;28;01mwith\u001b[39;00m _InterpolateFunctionError(\u001b[38;5;28mself\u001b[39m):\n\u001b[1;32m    597\u001b[0m   \u001b[38;5;28;01mif\u001b[39;00m cancellation_manager \u001b[38;5;129;01mis\u001b[39;00m \u001b[38;5;28;01mNone\u001b[39;00m:\n\u001b[0;32m--> 598\u001b[0m     outputs \u001b[38;5;241m=\u001b[39m \u001b[43mexecute\u001b[49m\u001b[38;5;241;43m.\u001b[39;49m\u001b[43mexecute\u001b[49m\u001b[43m(\u001b[49m\n\u001b[1;32m    599\u001b[0m \u001b[43m        \u001b[49m\u001b[38;5;28;43mstr\u001b[39;49m\u001b[43m(\u001b[49m\u001b[38;5;28;43mself\u001b[39;49m\u001b[38;5;241;43m.\u001b[39;49m\u001b[43msignature\u001b[49m\u001b[38;5;241;43m.\u001b[39;49m\u001b[43mname\u001b[49m\u001b[43m)\u001b[49m\u001b[43m,\u001b[49m\n\u001b[1;32m    600\u001b[0m \u001b[43m        \u001b[49m\u001b[43mnum_outputs\u001b[49m\u001b[38;5;241;43m=\u001b[39;49m\u001b[38;5;28;43mself\u001b[39;49m\u001b[38;5;241;43m.\u001b[39;49m\u001b[43m_num_outputs\u001b[49m\u001b[43m,\u001b[49m\n\u001b[1;32m    601\u001b[0m \u001b[43m        \u001b[49m\u001b[43minputs\u001b[49m\u001b[38;5;241;43m=\u001b[39;49m\u001b[43margs\u001b[49m\u001b[43m,\u001b[49m\n\u001b[1;32m    602\u001b[0m \u001b[43m        \u001b[49m\u001b[43mattrs\u001b[49m\u001b[38;5;241;43m=\u001b[39;49m\u001b[43mattrs\u001b[49m\u001b[43m,\u001b[49m\n\u001b[1;32m    603\u001b[0m \u001b[43m        \u001b[49m\u001b[43mctx\u001b[49m\u001b[38;5;241;43m=\u001b[39;49m\u001b[43mctx\u001b[49m\u001b[43m)\u001b[49m\n\u001b[1;32m    604\u001b[0m   \u001b[38;5;28;01melse\u001b[39;00m:\n\u001b[1;32m    605\u001b[0m     outputs \u001b[38;5;241m=\u001b[39m execute\u001b[38;5;241m.\u001b[39mexecute_with_cancellation(\n\u001b[1;32m    606\u001b[0m         \u001b[38;5;28mstr\u001b[39m(\u001b[38;5;28mself\u001b[39m\u001b[38;5;241m.\u001b[39msignature\u001b[38;5;241m.\u001b[39mname),\n\u001b[1;32m    607\u001b[0m         num_outputs\u001b[38;5;241m=\u001b[39m\u001b[38;5;28mself\u001b[39m\u001b[38;5;241m.\u001b[39m_num_outputs,\n\u001b[0;32m   (...)\u001b[0m\n\u001b[1;32m    610\u001b[0m         ctx\u001b[38;5;241m=\u001b[39mctx,\n\u001b[1;32m    611\u001b[0m         cancellation_manager\u001b[38;5;241m=\u001b[39mcancellation_manager)\n",
      "File \u001b[0;32m~/.pyenv/versions/3.8.12/envs/job-prepr-model/lib/python3.8/site-packages/tensorflow/python/eager/execute.py:58\u001b[0m, in \u001b[0;36mquick_execute\u001b[0;34m(op_name, num_outputs, inputs, attrs, ctx, name)\u001b[0m\n\u001b[1;32m     56\u001b[0m \u001b[38;5;28;01mtry\u001b[39;00m:\n\u001b[1;32m     57\u001b[0m   ctx\u001b[38;5;241m.\u001b[39mensure_initialized()\n\u001b[0;32m---> 58\u001b[0m   tensors \u001b[38;5;241m=\u001b[39m \u001b[43mpywrap_tfe\u001b[49m\u001b[38;5;241;43m.\u001b[39;49m\u001b[43mTFE_Py_Execute\u001b[49m\u001b[43m(\u001b[49m\u001b[43mctx\u001b[49m\u001b[38;5;241;43m.\u001b[39;49m\u001b[43m_handle\u001b[49m\u001b[43m,\u001b[49m\u001b[43m \u001b[49m\u001b[43mdevice_name\u001b[49m\u001b[43m,\u001b[49m\u001b[43m \u001b[49m\u001b[43mop_name\u001b[49m\u001b[43m,\u001b[49m\n\u001b[1;32m     59\u001b[0m \u001b[43m                                      \u001b[49m\u001b[43minputs\u001b[49m\u001b[43m,\u001b[49m\u001b[43m \u001b[49m\u001b[43mattrs\u001b[49m\u001b[43m,\u001b[49m\u001b[43m \u001b[49m\u001b[43mnum_outputs\u001b[49m\u001b[43m)\u001b[49m\n\u001b[1;32m     60\u001b[0m \u001b[38;5;28;01mexcept\u001b[39;00m core\u001b[38;5;241m.\u001b[39m_NotOkStatusException \u001b[38;5;28;01mas\u001b[39;00m e:\n\u001b[1;32m     61\u001b[0m   \u001b[38;5;28;01mif\u001b[39;00m name \u001b[38;5;129;01mis\u001b[39;00m \u001b[38;5;129;01mnot\u001b[39;00m \u001b[38;5;28;01mNone\u001b[39;00m:\n",
      "\u001b[0;31mKeyboardInterrupt\u001b[0m: "
     ]
    }
   ],
   "source": [
    "model.fit(X_sample, y_sample, batch_size = 32, epochs = 1000,\n",
    "          callbacks=[EarlyStopping(patience = 20, restore_best_weights= True, monitor = \"val_accuracy\", mode = \"max\")],\n",
    "         validation_split = 0.2, verbose = 1)"
   ]
  },
  {
   "cell_type": "code",
   "execution_count": null,
   "id": "d436de2d",
   "metadata": {},
   "outputs": [],
   "source": []
  },
  {
   "cell_type": "code",
   "execution_count": 81,
   "id": "b5c63e33",
   "metadata": {},
   "outputs": [
    {
     "name": "stdout",
     "output_type": "stream",
     "text": [
      "221/221 [==============================] - 1s 2ms/step - loss: 1.7549 - accuracy: 0.3627\n"
     ]
    },
    {
     "data": {
      "text/plain": [
       "[1.7548847198486328, 0.36272290349006653]"
      ]
     },
     "execution_count": 81,
     "metadata": {},
     "output_type": "execute_result"
    }
   ],
   "source": [
    "model.evaluate(X_test, y_test_cat)"
   ]
  },
  {
   "cell_type": "markdown",
   "id": "9b15ebe2",
   "metadata": {},
   "source": [
    "# GridSearch"
   ]
  },
  {
   "cell_type": "code",
   "execution_count": 51,
   "id": "6edd5ca9",
   "metadata": {},
   "outputs": [],
   "source": [
    "def compile_model(maxpooling2d=2, activation_for_hidden='relu', last_dense_layer_neurons=100):\n",
    "    from tensorflow.keras.layers.experimental.preprocessing import Rescaling\n",
    "    from tensorflow.keras import layers, models\n",
    "\n",
    "    model = models.Sequential()\n",
    "\n",
    "    # Notice this cool new layer that \"pipe\" your rescaling within the architecture\n",
    "    model.add(Rescaling(1./255, input_shape=(48, 48, 1)))\n",
    "\n",
    "    # Lets add 3 convolution layers, with relatively large kernel size as our pictures are quite big too\n",
    "    model.add(layers.Conv2D(16, kernel_size=5, activation=activation_for_hidden))\n",
    "    model.add(layers.MaxPooling2D(maxpooling2d))\n",
    "\n",
    "    model.add(layers.Conv2D(32, kernel_size=3, activation=\"relu\"))\n",
    "    model.add(layers.MaxPooling2D(maxpooling2d))\n",
    "\n",
    "    model.add(layers.Conv2D(32, kernel_size=2, activation=\"relu\"))\n",
    "    model.add(layers.MaxPooling2D(maxpooling2d))\n",
    "\n",
    "    model.add(layers.Flatten())\n",
    "    model.add(layers.Dense(last_dense_layer_neurons, activation='relu'))\n",
    "    model.add(layers.Dense(7, activation='softmax'))\n",
    "\n",
    "    model.compile(loss='categorical_crossentropy',\n",
    "                  optimizer='adam',\n",
    "                  metrics=['accuracy'])\n",
    "    return model"
   ]
  },
  {
   "cell_type": "code",
   "execution_count": 52,
   "id": "a9f0d014",
   "metadata": {},
   "outputs": [
    {
     "name": "stderr",
     "output_type": "stream",
     "text": [
      "/tmp/ipykernel_24744/2305196919.py:3: DeprecationWarning: KerasClassifier is deprecated, use Sci-Keras (https://github.com/adriangb/scikeras) instead.\n",
      "  disguised_deep_model = KerasClassifier(build_fn = compile_model,\n"
     ]
    }
   ],
   "source": [
    "from tensorflow.keras.wrappers.scikit_learn import KerasClassifier\n",
    "\n",
    "disguised_deep_model = KerasClassifier(build_fn = compile_model, \n",
    "                                       epochs = 1000, \n",
    "                                       batch_size = 32, \n",
    "                                       verbose = 0)"
   ]
  },
  {
   "cell_type": "code",
   "execution_count": 48,
   "id": "a9bc19e0",
   "metadata": {},
   "outputs": [],
   "source": [
    "from sklearn.pipeline import make_pipeline"
   ]
  },
  {
   "cell_type": "code",
   "execution_count": 49,
   "id": "c17134e1",
   "metadata": {},
   "outputs": [
    {
     "data": {
      "text/html": [
       "<style>#sk-container-id-4 {color: black;background-color: white;}#sk-container-id-4 pre{padding: 0;}#sk-container-id-4 div.sk-toggleable {background-color: white;}#sk-container-id-4 label.sk-toggleable__label {cursor: pointer;display: block;width: 100%;margin-bottom: 0;padding: 0.3em;box-sizing: border-box;text-align: center;}#sk-container-id-4 label.sk-toggleable__label-arrow:before {content: \"▸\";float: left;margin-right: 0.25em;color: #696969;}#sk-container-id-4 label.sk-toggleable__label-arrow:hover:before {color: black;}#sk-container-id-4 div.sk-estimator:hover label.sk-toggleable__label-arrow:before {color: black;}#sk-container-id-4 div.sk-toggleable__content {max-height: 0;max-width: 0;overflow: hidden;text-align: left;background-color: #f0f8ff;}#sk-container-id-4 div.sk-toggleable__content pre {margin: 0.2em;color: black;border-radius: 0.25em;background-color: #f0f8ff;}#sk-container-id-4 input.sk-toggleable__control:checked~div.sk-toggleable__content {max-height: 200px;max-width: 100%;overflow: auto;}#sk-container-id-4 input.sk-toggleable__control:checked~label.sk-toggleable__label-arrow:before {content: \"▾\";}#sk-container-id-4 div.sk-estimator input.sk-toggleable__control:checked~label.sk-toggleable__label {background-color: #d4ebff;}#sk-container-id-4 div.sk-label input.sk-toggleable__control:checked~label.sk-toggleable__label {background-color: #d4ebff;}#sk-container-id-4 input.sk-hidden--visually {border: 0;clip: rect(1px 1px 1px 1px);clip: rect(1px, 1px, 1px, 1px);height: 1px;margin: -1px;overflow: hidden;padding: 0;position: absolute;width: 1px;}#sk-container-id-4 div.sk-estimator {font-family: monospace;background-color: #f0f8ff;border: 1px dotted black;border-radius: 0.25em;box-sizing: border-box;margin-bottom: 0.5em;}#sk-container-id-4 div.sk-estimator:hover {background-color: #d4ebff;}#sk-container-id-4 div.sk-parallel-item::after {content: \"\";width: 100%;border-bottom: 1px solid gray;flex-grow: 1;}#sk-container-id-4 div.sk-label:hover label.sk-toggleable__label {background-color: #d4ebff;}#sk-container-id-4 div.sk-serial::before {content: \"\";position: absolute;border-left: 1px solid gray;box-sizing: border-box;top: 0;bottom: 0;left: 50%;z-index: 0;}#sk-container-id-4 div.sk-serial {display: flex;flex-direction: column;align-items: center;background-color: white;padding-right: 0.2em;padding-left: 0.2em;position: relative;}#sk-container-id-4 div.sk-item {position: relative;z-index: 1;}#sk-container-id-4 div.sk-parallel {display: flex;align-items: stretch;justify-content: center;background-color: white;position: relative;}#sk-container-id-4 div.sk-item::before, #sk-container-id-4 div.sk-parallel-item::before {content: \"\";position: absolute;border-left: 1px solid gray;box-sizing: border-box;top: 0;bottom: 0;left: 50%;z-index: -1;}#sk-container-id-4 div.sk-parallel-item {display: flex;flex-direction: column;z-index: 1;position: relative;background-color: white;}#sk-container-id-4 div.sk-parallel-item:first-child::after {align-self: flex-end;width: 50%;}#sk-container-id-4 div.sk-parallel-item:last-child::after {align-self: flex-start;width: 50%;}#sk-container-id-4 div.sk-parallel-item:only-child::after {width: 0;}#sk-container-id-4 div.sk-dashed-wrapped {border: 1px dashed gray;margin: 0 0.4em 0.5em 0.4em;box-sizing: border-box;padding-bottom: 0.4em;background-color: white;}#sk-container-id-4 div.sk-label label {font-family: monospace;font-weight: bold;display: inline-block;line-height: 1.2em;}#sk-container-id-4 div.sk-label-container {text-align: center;}#sk-container-id-4 div.sk-container {/* jupyter's `normalize.less` sets `[hidden] { display: none; }` but bootstrap.min.css set `[hidden] { display: none !important; }` so we also need the `!important` here to be able to override the default hidden behavior on the sphinx rendered scikit-learn.org. See: https://github.com/scikit-learn/scikit-learn/issues/21755 */display: inline-block !important;position: relative;}#sk-container-id-4 div.sk-text-repr-fallback {display: none;}</style><div id=\"sk-container-id-4\" class=\"sk-top-container\"><div class=\"sk-text-repr-fallback\"><pre>Pipeline(steps=[(&#x27;kerasclassifier&#x27;,\n",
       "                 &lt;keras.wrappers.scikit_learn.KerasClassifier object at 0x7f8d45e6be20&gt;)])</pre><b>In a Jupyter environment, please rerun this cell to show the HTML representation or trust the notebook. <br />On GitHub, the HTML representation is unable to render, please try loading this page with nbviewer.org.</b></div><div class=\"sk-container\" hidden><div class=\"sk-item sk-dashed-wrapped\"><div class=\"sk-label-container\"><div class=\"sk-label sk-toggleable\"><input class=\"sk-toggleable__control sk-hidden--visually\" id=\"sk-estimator-id-7\" type=\"checkbox\" ><label for=\"sk-estimator-id-7\" class=\"sk-toggleable__label sk-toggleable__label-arrow\">Pipeline</label><div class=\"sk-toggleable__content\"><pre>Pipeline(steps=[(&#x27;kerasclassifier&#x27;,\n",
       "                 &lt;keras.wrappers.scikit_learn.KerasClassifier object at 0x7f8d45e6be20&gt;)])</pre></div></div></div><div class=\"sk-serial\"><div class=\"sk-item\"><div class=\"sk-estimator sk-toggleable\"><input class=\"sk-toggleable__control sk-hidden--visually\" id=\"sk-estimator-id-8\" type=\"checkbox\" ><label for=\"sk-estimator-id-8\" class=\"sk-toggleable__label sk-toggleable__label-arrow\">KerasClassifier</label><div class=\"sk-toggleable__content\"><pre>&lt;keras.wrappers.scikit_learn.KerasClassifier object at 0x7f8d45e6be20&gt;</pre></div></div></div></div></div></div></div>"
      ],
      "text/plain": [
       "Pipeline(steps=[('kerasclassifier',\n",
       "                 <keras.wrappers.scikit_learn.KerasClassifier object at 0x7f8d45e6be20>)])"
      ]
     },
     "execution_count": 49,
     "metadata": {},
     "output_type": "execute_result"
    }
   ],
   "source": [
    "pipeline = make_pipeline(disguised_deep_model)\n",
    "pipeline"
   ]
  },
  {
   "cell_type": "code",
   "execution_count": 50,
   "id": "655f0d1c",
   "metadata": {},
   "outputs": [
    {
     "data": {
      "text/plain": [
       "{'memory': None,\n",
       " 'steps': [('kerasclassifier',\n",
       "   <keras.wrappers.scikit_learn.KerasClassifier at 0x7f8d45e6be20>)],\n",
       " 'verbose': False,\n",
       " 'kerasclassifier': <keras.wrappers.scikit_learn.KerasClassifier at 0x7f8d45e6be20>,\n",
       " 'kerasclassifier__epochs': 1000,\n",
       " 'kerasclassifier__batch_size': 32,\n",
       " 'kerasclassifier__verbose': 0,\n",
       " 'kerasclassifier__build_fn': <function __main__.compile_model(maxpooling2d, activation_for_hidden='relu', last_dense_layer_neurons=100)>}"
      ]
     },
     "execution_count": 50,
     "metadata": {},
     "output_type": "execute_result"
    }
   ],
   "source": [
    "pipeline.get_params()"
   ]
  },
  {
   "cell_type": "code",
   "execution_count": null,
   "id": "dea3e31e",
   "metadata": {},
   "outputs": [],
   "source": [
    "from sklearn.model_selection import GridSearchCV\n",
    "\n",
    "gridsearch_params = {\n",
    "    # total number of combinations: 1296\n",
    "    #optimizer : [\"adam\"],\n",
    "    maxpooling2d : [2, 3, 4],\n",
    "    kerasclassifier__activation_for_hidden : [\"relu\", \"tanh\"],\n",
    "    #kernel_size : [(3, 3)],\n",
    "    kerasclassifier__last_dense_layer_neurons : [80, 90, 100, 110, 120],\n",
    "    kerasclassifier__batch_size : [8, 16, 32, 64],\n",
    "    earlystopping_patience : [50]\n",
    "}"
   ]
  },
  {
   "cell_type": "markdown",
   "id": "ec54ff63",
   "metadata": {
    "heading_collapsed": true
   },
   "source": [
    "# Fitting on all of the data"
   ]
  },
  {
   "cell_type": "code",
   "execution_count": 82,
   "id": "7cee7459",
   "metadata": {
    "hidden": true
   },
   "outputs": [],
   "source": [
    "X_shuffle_all, y_shuffle_all = shuffle(X_train, y_train_cat, random_state = 0)"
   ]
  },
  {
   "cell_type": "code",
   "execution_count": 84,
   "id": "f7ec2410",
   "metadata": {
    "hidden": true
   },
   "outputs": [],
   "source": [
    "model2 = models.Sequential()\n",
    "\n",
    "# Notice this cool new layer that \"pipe\" your rescaling within the architecture\n",
    "model2.add(Rescaling(1./255, input_shape=(48, 48, 1)))\n",
    "\n",
    "# Lets add 3 convolution layers, with relatively large kernel size as our pictures are quite big too\n",
    "model2.add(layers.Conv2D(16, kernel_size=5, activation='relu'))\n",
    "model2.add(layers.MaxPooling2D(3))\n",
    "\n",
    "model2.add(layers.Conv2D(32, kernel_size=3, activation=\"relu\"))\n",
    "model2.add(layers.MaxPooling2D(3))\n",
    "\n",
    "model2.add(layers.Conv2D(32, kernel_size=2, activation=\"relu\"))\n",
    "model2.add(layers.MaxPooling2D(3))\n",
    "\n",
    "model2.add(layers.Flatten())\n",
    "model2.add(layers.Dense(100, activation='relu'))\n",
    "model2.add(layers.Dense(7, activation='softmax'))\n",
    "\n",
    "model2.compile(loss='categorical_crossentropy',\n",
    "              optimizer='adam',\n",
    "              metrics=['accuracy'])"
   ]
  },
  {
   "cell_type": "code",
   "execution_count": 85,
   "id": "935e3b16",
   "metadata": {
    "hidden": true
   },
   "outputs": [
    {
     "name": "stdout",
     "output_type": "stream",
     "text": [
      "Epoch 1/1000\n",
      "721/721 [==============================] - 10s 13ms/step - loss: 1.8038 - accuracy: 0.2529 - val_loss: 1.7624 - val_accuracy: 0.2697\n",
      "Epoch 2/1000\n",
      "721/721 [==============================] - 9s 13ms/step - loss: 1.7019 - accuracy: 0.3066 - val_loss: 1.6681 - val_accuracy: 0.3334\n",
      "Epoch 3/1000\n",
      "721/721 [==============================] - 9s 12ms/step - loss: 1.6201 - accuracy: 0.3546 - val_loss: 1.6313 - val_accuracy: 0.3480\n",
      "Epoch 4/1000\n",
      "721/721 [==============================] - 9s 12ms/step - loss: 1.5476 - accuracy: 0.3931 - val_loss: 1.5532 - val_accuracy: 0.3960\n",
      "Epoch 5/1000\n",
      "721/721 [==============================] - 10s 13ms/step - loss: 1.4885 - accuracy: 0.4220 - val_loss: 1.4931 - val_accuracy: 0.4232\n",
      "Epoch 6/1000\n",
      "721/721 [==============================] - 9s 13ms/step - loss: 1.4408 - accuracy: 0.4435 - val_loss: 1.4570 - val_accuracy: 0.4418\n",
      "Epoch 7/1000\n",
      "721/721 [==============================] - 10s 13ms/step - loss: 1.4035 - accuracy: 0.4568 - val_loss: 1.4306 - val_accuracy: 0.4441\n",
      "Epoch 8/1000\n",
      "721/721 [==============================] - 10s 14ms/step - loss: 1.3733 - accuracy: 0.4709 - val_loss: 1.4412 - val_accuracy: 0.4524\n",
      "Epoch 9/1000\n",
      "721/721 [==============================] - 10s 14ms/step - loss: 1.3530 - accuracy: 0.4767 - val_loss: 1.4320 - val_accuracy: 0.4519\n",
      "Epoch 10/1000\n",
      "721/721 [==============================] - 10s 14ms/step - loss: 1.3317 - accuracy: 0.4864 - val_loss: 1.4025 - val_accuracy: 0.4612\n",
      "Epoch 11/1000\n",
      "721/721 [==============================] - 10s 14ms/step - loss: 1.3093 - accuracy: 0.4930 - val_loss: 1.4060 - val_accuracy: 0.4557\n",
      "Epoch 12/1000\n",
      "721/721 [==============================] - 10s 14ms/step - loss: 1.2894 - accuracy: 0.5012 - val_loss: 1.3619 - val_accuracy: 0.4801\n",
      "Epoch 13/1000\n",
      "721/721 [==============================] - 10s 14ms/step - loss: 1.2743 - accuracy: 0.5081 - val_loss: 1.3706 - val_accuracy: 0.4772\n",
      "Epoch 14/1000\n",
      "721/721 [==============================] - 10s 14ms/step - loss: 1.2626 - accuracy: 0.5153 - val_loss: 1.3840 - val_accuracy: 0.4694\n",
      "Epoch 15/1000\n",
      "721/721 [==============================] - 10s 14ms/step - loss: 1.2442 - accuracy: 0.5209 - val_loss: 1.3503 - val_accuracy: 0.4834\n",
      "Epoch 16/1000\n",
      "721/721 [==============================] - 10s 14ms/step - loss: 1.2356 - accuracy: 0.5264 - val_loss: 1.3712 - val_accuracy: 0.4857\n",
      "Epoch 17/1000\n",
      "721/721 [==============================] - 10s 14ms/step - loss: 1.2287 - accuracy: 0.5292 - val_loss: 1.3503 - val_accuracy: 0.4833\n",
      "Epoch 18/1000\n",
      "721/721 [==============================] - 10s 14ms/step - loss: 1.2159 - accuracy: 0.5330 - val_loss: 1.3443 - val_accuracy: 0.4824\n",
      "Epoch 19/1000\n",
      "721/721 [==============================] - 10s 14ms/step - loss: 1.2084 - accuracy: 0.5356 - val_loss: 1.3902 - val_accuracy: 0.4729\n",
      "Epoch 20/1000\n",
      "721/721 [==============================] - 10s 14ms/step - loss: 1.1983 - accuracy: 0.5403 - val_loss: 1.3630 - val_accuracy: 0.4890\n",
      "Epoch 21/1000\n",
      "721/721 [==============================] - 10s 14ms/step - loss: 1.1933 - accuracy: 0.5427 - val_loss: 1.3685 - val_accuracy: 0.4758\n",
      "Epoch 22/1000\n",
      "721/721 [==============================] - 10s 14ms/step - loss: 1.1782 - accuracy: 0.5475 - val_loss: 1.3498 - val_accuracy: 0.4879\n",
      "Epoch 23/1000\n",
      "721/721 [==============================] - 10s 14ms/step - loss: 1.1735 - accuracy: 0.5501 - val_loss: 1.3323 - val_accuracy: 0.4985\n",
      "Epoch 24/1000\n",
      "721/721 [==============================] - 10s 14ms/step - loss: 1.1634 - accuracy: 0.5524 - val_loss: 1.3617 - val_accuracy: 0.4845\n",
      "Epoch 25/1000\n",
      "721/721 [==============================] - 10s 14ms/step - loss: 1.1612 - accuracy: 0.5537 - val_loss: 1.3554 - val_accuracy: 0.4904\n",
      "Epoch 26/1000\n",
      "721/721 [==============================] - 10s 14ms/step - loss: 1.1533 - accuracy: 0.5566 - val_loss: 1.3607 - val_accuracy: 0.4956\n",
      "Epoch 27/1000\n",
      "721/721 [==============================] - 10s 14ms/step - loss: 1.1478 - accuracy: 0.5621 - val_loss: 1.3494 - val_accuracy: 0.4883\n",
      "Epoch 28/1000\n",
      "721/721 [==============================] - 11s 15ms/step - loss: 1.1354 - accuracy: 0.5647 - val_loss: 1.3495 - val_accuracy: 0.4928\n",
      "Epoch 29/1000\n",
      "721/721 [==============================] - 10s 14ms/step - loss: 1.1335 - accuracy: 0.5620 - val_loss: 1.3487 - val_accuracy: 0.4951\n",
      "Epoch 30/1000\n",
      "721/721 [==============================] - 10s 13ms/step - loss: 1.1249 - accuracy: 0.5675 - val_loss: 1.3400 - val_accuracy: 0.5008\n",
      "Epoch 31/1000\n",
      "721/721 [==============================] - 10s 13ms/step - loss: 1.1216 - accuracy: 0.5685 - val_loss: 1.3587 - val_accuracy: 0.4876\n",
      "Epoch 32/1000\n",
      "721/721 [==============================] - 10s 14ms/step - loss: 1.1142 - accuracy: 0.5729 - val_loss: 1.3607 - val_accuracy: 0.4909\n",
      "Epoch 33/1000\n",
      "721/721 [==============================] - 10s 14ms/step - loss: 1.1064 - accuracy: 0.5767 - val_loss: 1.3445 - val_accuracy: 0.4940\n",
      "Epoch 34/1000\n",
      "721/721 [==============================] - 10s 14ms/step - loss: 1.1030 - accuracy: 0.5767 - val_loss: 1.3481 - val_accuracy: 0.4918\n",
      "Epoch 35/1000\n",
      "721/721 [==============================] - 10s 14ms/step - loss: 1.0978 - accuracy: 0.5787 - val_loss: 1.3537 - val_accuracy: 0.4914\n",
      "Epoch 36/1000\n",
      "721/721 [==============================] - 10s 14ms/step - loss: 1.0938 - accuracy: 0.5798 - val_loss: 1.3639 - val_accuracy: 0.4963\n",
      "Epoch 37/1000\n",
      "721/721 [==============================] - 10s 14ms/step - loss: 1.0870 - accuracy: 0.5836 - val_loss: 1.3623 - val_accuracy: 0.5022\n",
      "Epoch 38/1000\n",
      "721/721 [==============================] - 10s 14ms/step - loss: 1.0848 - accuracy: 0.5850 - val_loss: 1.3600 - val_accuracy: 0.4942\n",
      "Epoch 39/1000\n",
      "721/721 [==============================] - 10s 13ms/step - loss: 1.0775 - accuracy: 0.5867 - val_loss: 1.3752 - val_accuracy: 0.4990\n",
      "Epoch 40/1000\n",
      "721/721 [==============================] - 10s 14ms/step - loss: 1.0742 - accuracy: 0.5893 - val_loss: 1.3820 - val_accuracy: 0.4852\n",
      "Epoch 41/1000\n",
      "721/721 [==============================] - 10s 14ms/step - loss: 1.0710 - accuracy: 0.5892 - val_loss: 1.3822 - val_accuracy: 0.4971\n",
      "Epoch 42/1000\n",
      "721/721 [==============================] - 10s 14ms/step - loss: 1.0614 - accuracy: 0.5931 - val_loss: 1.3890 - val_accuracy: 0.4964\n",
      "Epoch 43/1000\n",
      "721/721 [==============================] - 10s 14ms/step - loss: 1.0598 - accuracy: 0.5949 - val_loss: 1.3775 - val_accuracy: 0.4968\n",
      "Epoch 44/1000\n",
      "721/721 [==============================] - 10s 14ms/step - loss: 1.0559 - accuracy: 0.5948 - val_loss: 1.3724 - val_accuracy: 0.5010\n",
      "Epoch 45/1000\n",
      "721/721 [==============================] - 10s 13ms/step - loss: 1.0512 - accuracy: 0.5979 - val_loss: 1.3905 - val_accuracy: 0.4968\n",
      "Epoch 46/1000\n",
      "721/721 [==============================] - 10s 14ms/step - loss: 1.0473 - accuracy: 0.6009 - val_loss: 1.4346 - val_accuracy: 0.4945\n",
      "Epoch 47/1000\n",
      "721/721 [==============================] - 10s 13ms/step - loss: 1.0425 - accuracy: 0.6030 - val_loss: 1.3999 - val_accuracy: 0.5058\n",
      "Epoch 48/1000\n",
      "721/721 [==============================] - 10s 14ms/step - loss: 1.0370 - accuracy: 0.6011 - val_loss: 1.3880 - val_accuracy: 0.4916\n",
      "Epoch 49/1000\n",
      "721/721 [==============================] - 10s 14ms/step - loss: 1.0362 - accuracy: 0.6037 - val_loss: 1.3943 - val_accuracy: 0.4925\n",
      "Epoch 50/1000\n",
      "721/721 [==============================] - 10s 14ms/step - loss: 1.0302 - accuracy: 0.6071 - val_loss: 1.4393 - val_accuracy: 0.4791\n",
      "Epoch 51/1000\n",
      "721/721 [==============================] - 10s 13ms/step - loss: 1.0286 - accuracy: 0.6046 - val_loss: 1.3814 - val_accuracy: 0.5011\n",
      "Epoch 52/1000\n",
      "721/721 [==============================] - 10s 14ms/step - loss: 1.0283 - accuracy: 0.6044 - val_loss: 1.4063 - val_accuracy: 0.4871\n",
      "Epoch 53/1000\n",
      "721/721 [==============================] - 10s 14ms/step - loss: 1.0193 - accuracy: 0.6101 - val_loss: 1.3840 - val_accuracy: 0.5034\n",
      "Epoch 54/1000\n",
      "721/721 [==============================] - 10s 13ms/step - loss: 1.0182 - accuracy: 0.6093 - val_loss: 1.4027 - val_accuracy: 0.4940\n",
      "Epoch 55/1000\n",
      "721/721 [==============================] - 10s 13ms/step - loss: 1.0113 - accuracy: 0.6120 - val_loss: 1.4209 - val_accuracy: 0.4912\n",
      "Epoch 56/1000\n",
      "721/721 [==============================] - 10s 14ms/step - loss: 1.0067 - accuracy: 0.6156 - val_loss: 1.4107 - val_accuracy: 0.4940\n"
     ]
    },
    {
     "name": "stdout",
     "output_type": "stream",
     "text": [
      "Epoch 57/1000\n",
      "721/721 [==============================] - 10s 13ms/step - loss: 1.0038 - accuracy: 0.6151 - val_loss: 1.4355 - val_accuracy: 0.4848\n",
      "Epoch 58/1000\n",
      "721/721 [==============================] - 9s 13ms/step - loss: 1.0031 - accuracy: 0.6153 - val_loss: 1.4141 - val_accuracy: 0.5051\n",
      "Epoch 59/1000\n",
      "721/721 [==============================] - 9s 13ms/step - loss: 0.9990 - accuracy: 0.6175 - val_loss: 1.4716 - val_accuracy: 0.4857\n",
      "Epoch 60/1000\n",
      "721/721 [==============================] - 9s 13ms/step - loss: 0.9960 - accuracy: 0.6207 - val_loss: 1.4360 - val_accuracy: 0.4958\n",
      "Epoch 61/1000\n",
      "721/721 [==============================] - 9s 13ms/step - loss: 0.9907 - accuracy: 0.6233 - val_loss: 1.4418 - val_accuracy: 0.4973\n",
      "Epoch 62/1000\n",
      "721/721 [==============================] - 9s 13ms/step - loss: 0.9889 - accuracy: 0.6236 - val_loss: 1.5077 - val_accuracy: 0.4862\n",
      "Epoch 63/1000\n",
      "721/721 [==============================] - 9s 13ms/step - loss: 0.9873 - accuracy: 0.6232 - val_loss: 1.4544 - val_accuracy: 0.4951\n",
      "Epoch 64/1000\n",
      "721/721 [==============================] - 9s 13ms/step - loss: 0.9809 - accuracy: 0.6255 - val_loss: 1.4396 - val_accuracy: 0.4930\n",
      "Epoch 65/1000\n",
      "721/721 [==============================] - 9s 13ms/step - loss: 0.9813 - accuracy: 0.6253 - val_loss: 1.4521 - val_accuracy: 0.4905\n",
      "Epoch 66/1000\n",
      "721/721 [==============================] - 9s 13ms/step - loss: 0.9737 - accuracy: 0.6287 - val_loss: 1.4482 - val_accuracy: 0.4926\n",
      "Epoch 67/1000\n",
      "721/721 [==============================] - 9s 13ms/step - loss: 0.9729 - accuracy: 0.6304 - val_loss: 1.4683 - val_accuracy: 0.4925\n",
      "Epoch 68/1000\n",
      "721/721 [==============================] - 9s 13ms/step - loss: 0.9709 - accuracy: 0.6297 - val_loss: 1.4645 - val_accuracy: 0.4918\n",
      "Epoch 69/1000\n",
      "721/721 [==============================] - 9s 13ms/step - loss: 0.9672 - accuracy: 0.6331 - val_loss: 1.4558 - val_accuracy: 0.4952\n",
      "Epoch 70/1000\n",
      "721/721 [==============================] - 9s 13ms/step - loss: 0.9655 - accuracy: 0.6294 - val_loss: 1.5036 - val_accuracy: 0.4772\n",
      "Epoch 71/1000\n",
      "721/721 [==============================] - 9s 13ms/step - loss: 0.9645 - accuracy: 0.6306 - val_loss: 1.4815 - val_accuracy: 0.4968\n",
      "Epoch 72/1000\n",
      "721/721 [==============================] - 9s 13ms/step - loss: 0.9575 - accuracy: 0.6344 - val_loss: 1.4764 - val_accuracy: 0.4921\n",
      "Epoch 73/1000\n",
      "721/721 [==============================] - 9s 13ms/step - loss: 0.9547 - accuracy: 0.6332 - val_loss: 1.4670 - val_accuracy: 0.4956\n",
      "Epoch 74/1000\n",
      "721/721 [==============================] - 9s 13ms/step - loss: 0.9503 - accuracy: 0.6374 - val_loss: 1.5023 - val_accuracy: 0.4886\n",
      "Epoch 75/1000\n",
      "721/721 [==============================] - 9s 13ms/step - loss: 0.9462 - accuracy: 0.6384 - val_loss: 1.5154 - val_accuracy: 0.4871\n",
      "Epoch 76/1000\n",
      "721/721 [==============================] - 9s 13ms/step - loss: 0.9468 - accuracy: 0.6378 - val_loss: 1.4894 - val_accuracy: 0.5020\n",
      "Epoch 77/1000\n",
      "721/721 [==============================] - 9s 13ms/step - loss: 0.9391 - accuracy: 0.6432 - val_loss: 1.5198 - val_accuracy: 0.4933\n",
      "Epoch 78/1000\n",
      "721/721 [==============================] - 9s 13ms/step - loss: 0.9388 - accuracy: 0.6438 - val_loss: 1.5301 - val_accuracy: 0.4843\n",
      "Epoch 79/1000\n",
      "721/721 [==============================] - 9s 13ms/step - loss: 0.9376 - accuracy: 0.6414 - val_loss: 1.5281 - val_accuracy: 0.4945\n",
      "Epoch 80/1000\n",
      "721/721 [==============================] - 10s 13ms/step - loss: 0.9337 - accuracy: 0.6458 - val_loss: 1.4950 - val_accuracy: 0.4859\n",
      "Epoch 81/1000\n",
      "721/721 [==============================] - 10s 13ms/step - loss: 0.9326 - accuracy: 0.6459 - val_loss: 1.4870 - val_accuracy: 0.4878\n",
      "Epoch 82/1000\n",
      "721/721 [==============================] - 10s 13ms/step - loss: 0.9331 - accuracy: 0.6426 - val_loss: 1.5210 - val_accuracy: 0.4888\n",
      "Epoch 83/1000\n",
      "721/721 [==============================] - 10s 14ms/step - loss: 0.9236 - accuracy: 0.6489 - val_loss: 1.5769 - val_accuracy: 0.4803\n",
      "Epoch 84/1000\n",
      "721/721 [==============================] - 10s 13ms/step - loss: 0.9233 - accuracy: 0.6485 - val_loss: 1.5180 - val_accuracy: 0.4930\n",
      "Epoch 85/1000\n",
      "721/721 [==============================] - 10s 13ms/step - loss: 0.9232 - accuracy: 0.6459 - val_loss: 1.5131 - val_accuracy: 0.4937\n",
      "Epoch 86/1000\n",
      "721/721 [==============================] - 10s 14ms/step - loss: 0.9186 - accuracy: 0.6486 - val_loss: 1.5593 - val_accuracy: 0.4968\n",
      "Epoch 87/1000\n",
      "721/721 [==============================] - 10s 14ms/step - loss: 0.9160 - accuracy: 0.6523 - val_loss: 1.5607 - val_accuracy: 0.4860\n",
      "Epoch 88/1000\n",
      "721/721 [==============================] - 11s 16ms/step - loss: 0.9158 - accuracy: 0.6524 - val_loss: 1.5459 - val_accuracy: 0.4935\n",
      "Epoch 89/1000\n",
      "721/721 [==============================] - 10s 14ms/step - loss: 0.9124 - accuracy: 0.6505 - val_loss: 1.5246 - val_accuracy: 0.4907\n",
      "Epoch 90/1000\n",
      "721/721 [==============================] - 10s 14ms/step - loss: 0.9069 - accuracy: 0.6543 - val_loss: 1.5598 - val_accuracy: 0.4949\n",
      "Epoch 91/1000\n",
      "721/721 [==============================] - 10s 13ms/step - loss: 0.9087 - accuracy: 0.6522 - val_loss: 1.5349 - val_accuracy: 0.4876\n",
      "Epoch 92/1000\n",
      "721/721 [==============================] - 9s 13ms/step - loss: 0.9053 - accuracy: 0.6540 - val_loss: 1.5716 - val_accuracy: 0.4826\n",
      "Epoch 93/1000\n",
      "721/721 [==============================] - 9s 13ms/step - loss: 0.9039 - accuracy: 0.6558 - val_loss: 1.5573 - val_accuracy: 0.4829\n",
      "Epoch 94/1000\n",
      "721/721 [==============================] - 9s 13ms/step - loss: 0.9039 - accuracy: 0.6538 - val_loss: 1.5553 - val_accuracy: 0.4866\n",
      "Epoch 95/1000\n",
      "721/721 [==============================] - 9s 12ms/step - loss: 0.8985 - accuracy: 0.6567 - val_loss: 1.5759 - val_accuracy: 0.4919\n",
      "Epoch 96/1000\n",
      "721/721 [==============================] - 9s 13ms/step - loss: 0.8951 - accuracy: 0.6577 - val_loss: 1.5622 - val_accuracy: 0.4930\n",
      "Epoch 97/1000\n",
      "721/721 [==============================] - 10s 13ms/step - loss: 0.8941 - accuracy: 0.6569 - val_loss: 1.5787 - val_accuracy: 0.4879\n"
     ]
    },
    {
     "data": {
      "text/plain": [
       "<keras.callbacks.History at 0x18eb75880>"
      ]
     },
     "execution_count": 85,
     "metadata": {},
     "output_type": "execute_result"
    }
   ],
   "source": [
    "model2.fit(X_shuffle_all, y_shuffle_all, batch_size = 32, epochs = 1000,\n",
    "          callbacks=[EarlyStopping(patience = 50, restore_best_weights= True, monitor = \"val_accuracy\", mode = \"max\")],\n",
    "         validation_split = 0.2, verbose = 1)"
   ]
  },
  {
   "cell_type": "code",
   "execution_count": 86,
   "id": "7a8253e1",
   "metadata": {
    "hidden": true
   },
   "outputs": [
    {
     "name": "stdout",
     "output_type": "stream",
     "text": [
      "221/221 [==============================] - 1s 3ms/step - loss: 1.3639 - accuracy: 0.5113\n"
     ]
    },
    {
     "data": {
      "text/plain": [
       "[1.3638641834259033, 0.5113218426704407]"
      ]
     },
     "execution_count": 86,
     "metadata": {},
     "output_type": "execute_result"
    }
   ],
   "source": [
    "model2.evaluate(X_test, y_test_cat)"
   ]
  },
  {
   "cell_type": "code",
   "execution_count": 92,
   "id": "1e3be88a",
   "metadata": {
    "hidden": true
   },
   "outputs": [],
   "source": [
    "y_pred = model2.predict(X_test)"
   ]
  },
  {
   "cell_type": "code",
   "execution_count": 104,
   "id": "32054afe",
   "metadata": {
    "hidden": true
   },
   "outputs": [],
   "source": [
    "from sklearn.metrics import confusion_matrix, ConfusionMatrixDisplay"
   ]
  },
  {
   "cell_type": "code",
   "execution_count": 105,
   "id": "dd2bdc8f",
   "metadata": {
    "hidden": true
   },
   "outputs": [],
   "source": [
    "output = ConfusionMatrixDisplay(confusion_matrix(np.argmax(y_test_cat, axis =1), np.argmax(y_pred, axis =1)))"
   ]
  },
  {
   "cell_type": "code",
   "execution_count": 106,
   "id": "12b73c1a",
   "metadata": {
    "hidden": true
   },
   "outputs": [
    {
     "data": {
      "text/plain": [
       "<sklearn.metrics._plot.confusion_matrix.ConfusionMatrixDisplay at 0x18f572d90>"
      ]
     },
     "execution_count": 106,
     "metadata": {},
     "output_type": "execute_result"
    },
    {
     "data": {
      "image/png": "[encoded data removed]",
      "text/plain": [
       "<Figure size 432x288 with 2 Axes>"
      ]
     },
     "metadata": {
      "needs_background": "light"
     },
     "output_type": "display_data"
    }
   ],
   "source": [
    "output.plot()"
   ]
  },
  {
   "cell_type": "code",
   "execution_count": 107,
   "id": "a5541897",
   "metadata": {
    "hidden": true
   },
   "outputs": [
    {
     "data": {
      "text/plain": [
       "array(['happy', 'happy', 'happy', ..., 'disgust', 'disgust', 'disgust'],\n",
       "      dtype='<U8')"
      ]
     },
     "execution_count": 107,
     "metadata": {},
     "output_type": "execute_result"
    }
   ],
   "source": [
    "y_test"
   ]
  },
  {
   "cell_type": "code",
   "execution_count": 113,
   "id": "e0f0b946",
   "metadata": {
    "hidden": true
   },
   "outputs": [
    {
     "data": {
      "text/plain": [
       "array(['x0_angry', 'x0_disgust', 'x0_fear', 'x0_happy', 'x0_neutral',\n",
       "       'x0_sad', 'x0_surprise'], dtype=object)"
      ]
     },
     "execution_count": 113,
     "metadata": {},
     "output_type": "execute_result"
    }
   ],
   "source": [
    "ohe.get_feature_names_out()"
   ]
  },
  {
   "cell_type": "code",
   "execution_count": null,
   "id": "9eff8477",
   "metadata": {
    "hidden": true
   },
   "outputs": [],
   "source": []
  }
 ],
 "metadata": {
  "kernelspec": {
   "display_name": "Python 3 (ipykernel)",
   "language": "python",
   "name": "python3"
  },
  "language_info": {
   "codemirror_mode": {
    "name": "ipython",
    "version": 3
   },
   "file_extension": ".py",
   "mimetype": "text/x-python",
   "name": "python",
   "nbconvert_exporter": "python",
   "pygments_lexer": "ipython3",
   "version": "3.8.12"
  },
  "toc": {
   "base_numbering": 1,
   "nav_menu": {},
   "number_sections": true,
   "sideBar": true,
   "skip_h1_title": false,
   "title_cell": "Table of Contents",
   "title_sidebar": "Contents",
   "toc_cell": false,
   "toc_position": {},
   "toc_section_display": true,
   "toc_window_display": false
  }
 },
 "nbformat": 4,
 "nbformat_minor": 5
}
